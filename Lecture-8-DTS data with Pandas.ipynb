{
 "cells": [
  {
   "cell_type": "code",
   "execution_count": null,
   "metadata": {},
   "outputs": [],
   "source": [
    "import os\n",
    "from glob import glob\n",
    "\n",
    "import pandas as pd\n",
    "\n",
    "data_directory = r'data\\DTS'"
   ]
  },
  {
   "cell_type": "markdown",
   "metadata": {},
   "source": [
    "## Get a list of DDF files"
   ]
  },
  {
   "cell_type": "code",
   "execution_count": null,
   "metadata": {},
   "outputs": [],
   "source": [
    "ddf_files = glob(os.path.join(data_directory, '*.ddf'))\n",
    "ddf_files[:10] # show the first 10 files"
   ]
  },
  {
   "cell_type": "markdown",
   "metadata": {},
   "source": [
    "## Load the first DDF file into a DataFrame"
   ]
  },
  {
   "cell_type": "code",
   "execution_count": null,
   "metadata": {
    "scrolled": true
   },
   "outputs": [],
   "source": [
    "dts_data = pd.read_table(ddf_files[2], header=25, index_col=0, skiprows=0, encoding='ansi')\n",
    "dts_data.head()"
   ]
  },
  {
   "cell_type": "code",
   "execution_count": null,
   "metadata": {},
   "outputs": [],
   "source": [
    "help(pd.read_table)"
   ]
  },
  {
   "cell_type": "code",
   "execution_count": null,
   "metadata": {
    "scrolled": true
   },
   "outputs": [],
   "source": [
    "# rename the temperature column to something more convenient\n",
    "dts_data.rename({'temperature (°C)': 'temperature'}, axis=1, inplace=True)\n",
    "dts_data.head()"
   ]
  },
  {
   "cell_type": "markdown",
   "metadata": {},
   "source": [
    "## Indexing with a DataFrame"
   ]
  },
  {
   "cell_type": "code",
   "execution_count": null,
   "metadata": {
    "scrolled": true
   },
   "outputs": [],
   "source": [
    "dts_data['temperature'].head() # returns a Series"
   ]
  },
  {
   "cell_type": "code",
   "execution_count": null,
   "metadata": {
    "scrolled": true
   },
   "outputs": [],
   "source": [
    "dts_data[['forward Stokes', 'forward anti-Stokes']].head() # returns a DataFrame"
   ]
  },
  {
   "cell_type": "code",
   "execution_count": null,
   "metadata": {},
   "outputs": [],
   "source": [
    "dts_data.iloc[0:10, [1,2]] # index by integer position"
   ]
  },
  {
   "cell_type": "code",
   "execution_count": null,
   "metadata": {},
   "outputs": [],
   "source": [
    "dts_data.loc[0:10, 'temperature'] # index by label"
   ]
  },
  {
   "cell_type": "code",
   "execution_count": null,
   "metadata": {},
   "outputs": [],
   "source": [
    "import numpy as np\n",
    "dts_data[-np.inf:0]['temperature'] = np.nan\n",
    "dts_data.head()"
   ]
  },
  {
   "cell_type": "code",
   "execution_count": null,
   "metadata": {},
   "outputs": [],
   "source": [
    "dts_data.loc[-np.inf:0, :] = np.nan\n",
    "dts_data.head()"
   ]
  },
  {
   "cell_type": "markdown",
   "metadata": {},
   "source": [
    "See [Indexing and Selecting Data](https://pandas.pydata.org/pandas-docs/stable/indexing.html) for more information."
   ]
  },
  {
   "cell_type": "markdown",
   "metadata": {},
   "source": [
    "## Plot the data"
   ]
  },
  {
   "cell_type": "code",
   "execution_count": null,
   "metadata": {},
   "outputs": [],
   "source": [
    "%matplotlib inline\n",
    "dts_data['temperature'].plot()"
   ]
  },
  {
   "cell_type": "code",
   "execution_count": null,
   "metadata": {},
   "outputs": [],
   "source": [
    "dts_data.loc[200:375, 'temperature'].plot()"
   ]
  },
  {
   "cell_type": "code",
   "execution_count": null,
   "metadata": {},
   "outputs": [],
   "source": [
    "dts_data.loc[200:375, 'temperature'].describe()"
   ]
  },
  {
   "cell_type": "markdown",
   "metadata": {},
   "source": [
    "## Read all of the data into a multi-level DataFrame"
   ]
  },
  {
   "cell_type": "code",
   "execution_count": null,
   "metadata": {},
   "outputs": [],
   "source": [
    "frames = []\n",
    "datetime_stamps = []\n",
    "\n",
    "for file in ddf_files:\n",
    "    \n",
    "    # read the data into a DataFrame and append it to frames\n",
    "    dts_data = pd.read_table(file, header=25, index_col=0, encoding='ansi')\n",
    "    dts_data.rename({'temperature (°C)': 'temperature'}, axis=1, inplace=True)\n",
    "    frames.append(dts_data)\n",
    "    \n",
    "    # read the date and time information from the DDF and append the timestamp to datetime_stamps\n",
    "    date_line = 9\n",
    "    time_line = 10\n",
    "    with open(file, 'r') as f:\n",
    "        ddf_text = f.readlines()\n",
    "    date_str = ddf_text[date_line].strip().split('\\t')[1]\n",
    "    time_str = ddf_text[time_line].strip().split('\\t')[1]\n",
    "    datetime_stamps.append(pd.to_datetime(date_str + ' ' + time_str))\n",
    "\n",
    "dts_data = pd.concat(frames, axis=1, keys=datetime_stamps)\n",
    "dts_data.head()"
   ]
  },
  {
   "cell_type": "code",
   "execution_count": null,
   "metadata": {},
   "outputs": [],
   "source": [
    "temperature_data = dts_data.xs('temperature', axis=1, level=1)\n",
    "temperature_data.head()"
   ]
  },
  {
   "cell_type": "code",
   "execution_count": null,
   "metadata": {},
   "outputs": [],
   "source": [
    "temperature_data.loc[0:].transpose().describe()"
   ]
  },
  {
   "cell_type": "markdown",
   "metadata": {},
   "source": [
    "## Define a function to use for plotting a subset of data"
   ]
  },
  {
   "cell_type": "code",
   "execution_count": null,
   "metadata": {},
   "outputs": [],
   "source": [
    "from dateutil.tz import tzlocal\n",
    "\n",
    "import matplotlib.pyplot as plt\n",
    "import matplotlib.dates as dates\n",
    "from matplotlib.ticker import MaxNLocator, IndexFormatter, LinearLocator\n",
    "\n",
    "def plot_subset(plotting_subset, cmap=None):\n",
    "    \n",
    "    X = plotting_subset.index\n",
    "    Y = plotting_subset.columns\n",
    "    Z = plotting_subset.as_matrix().transpose() # swap axes so cable distance is on the x-axis\n",
    "\n",
    "    ax = plt.axes()\n",
    "\n",
    "    fig = ax.get_figure()\n",
    "    fig.set_size_inches((20, 10))\n",
    "    \n",
    "    if cmap is None:\n",
    "        cmap = plt.get_cmap('PiYG')\n",
    "    clim = (Z.min(), Z.max())\n",
    "    kwargs = {'cmap': cmap, 'clim': clim}\n",
    "    im = ax.imshow(Z, **kwargs)\n",
    "\n",
    "    locator = MaxNLocator(nbins=8)\n",
    "\n",
    "    # format x axis ticks\n",
    "    x_formatter = IndexFormatter(['{:7.3f}'.format(x) for x in X])\n",
    "    ax.xaxis.set_major_formatter(x_formatter)\n",
    "\n",
    "    # format y axis ticks\n",
    "    ax.yaxis.set_major_locator(locator)\n",
    "    fmt = '%b %d %H:%M:%S'\n",
    "    t = dates.epoch2num(Y.view('int64') // pd.Timedelta(1, unit='s')) # convert to num\n",
    "    y_formatter = dates.IndexDateFormatter(t, fmt)\n",
    "    ax.yaxis.set_major_formatter(y_formatter)\n",
    "\n",
    "    fig.colorbar(im)"
   ]
  },
  {
   "cell_type": "code",
   "execution_count": null,
   "metadata": {},
   "outputs": [],
   "source": [
    "subset = temperature_data.loc[10:]\n",
    "plot_subset(subset)"
   ]
  },
  {
   "cell_type": "code",
   "execution_count": null,
   "metadata": {},
   "outputs": [],
   "source": [
    "start_date = pd.datetime(2011, 6, 21, 15, 1, 17)\n",
    "end_date = pd.datetime(2011, 6, 21, 20, 1, 17)\n",
    "\n",
    "subset = temperature_data.loc[273:374, start_date:end_date]\n",
    "\n",
    "cmap = plt.get_cmap('jet')\n",
    "plot_subset(subset, cmap)"
   ]
  },
  {
   "cell_type": "code",
   "execution_count": null,
   "metadata": {},
   "outputs": [],
   "source": [
    "ax1 = plt.subplot(211)\n",
    "subset.std(axis=1).plot(ax=ax1)\n",
    "ax1.set_ylabel('std')\n",
    "\n",
    "ax2 = plt.subplot(212, sharex=ax1)\n",
    "subset.max(axis=1).plot(ax=ax2, label='max')\n",
    "subset.mean(axis=1).plot(ax=ax2, label='mean')\n",
    "subset.min(axis=1).plot(ax=ax2, label='min')\n",
    "ax2.set_ylabel('temperature')\n",
    "ax2.legend()\n",
    "\n",
    "fig = ax2.get_figure()\n",
    "fig.set_size_inches((20, 10))"
   ]
  },
  {
   "cell_type": "code",
   "execution_count": null,
   "metadata": {},
   "outputs": [],
   "source": [
    "# save the subset to a csv file\n",
    "subset.to_csv('subset.csv')"
   ]
  }
 ],
 "metadata": {
  "kernelspec": {
   "display_name": "Python 3",
   "language": "python",
   "name": "python3"
  },
  "language_info": {
   "codemirror_mode": {
    "name": "ipython",
    "version": 3
   },
   "file_extension": ".py",
   "mimetype": "text/x-python",
   "name": "python",
   "nbconvert_exporter": "python",
   "pygments_lexer": "ipython3",
   "version": "3.6.5"
  }
 },
 "nbformat": 4,
 "nbformat_minor": 2
}
